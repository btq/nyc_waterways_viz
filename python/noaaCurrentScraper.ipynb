{
 "metadata": {
  "name": "",
  "signature": "sha256:8d521156c44fb44a9cae779b31c39e52a7d35db0dbc9b63649cba2cb5f40a98b"
 },
 "nbformat": 3,
 "nbformat_minor": 0,
 "worksheets": [
  {
   "cells": [
    {
     "cell_type": "code",
     "collapsed": false,
     "input": [
      "# special IPython command to prepare the notebook for matplotlib\n",
      "%matplotlib inline \n",
      "\n",
      "from collections import defaultdict\n",
      "\n",
      "import pandas as pd\n",
      "import matplotlib.pyplot as plt\n",
      "import requests\n",
      "from pattern import web\n",
      "import json\n",
      "import urllib\n",
      "import numpy as np\n",
      "import csv\n"
     ],
     "language": "python",
     "metadata": {},
     "outputs": [],
     "prompt_number": 13
    },
    {
     "cell_type": "markdown",
     "metadata": {},
     "source": [
      "## Scraping NOAA for currents\n",
      "The new beta predictions from NOAA allow requests for .csv, .txt, and .xml files.  A requesting URL looks like the following:\n",
      "\n",
      "http://tidesandcurrents.noaa.gov/noaacurrents/DownloadPredictions?fmt=txt&i=&d=2014-07-12&r=1&tz=LST%2fLDT&u=1&id=ACT3431_1&t=24hr&i=&threshold=leEq&thresholdvalue=\n",
      "\n",
      "where:\n",
      "- __?fmt=txt__ could be any of the three permitted formats (__csv__, __txt__, __xml__)\n",
      "- __?id=ACT3431__ is the ID for the station of interest\n",
      "- __?d=2014-07-12__ is the date for the currents requested\n",
      "\n",
      "http://tidesandcurrents.noaa.gov/noaacurrents/CreateAnnual\n",
      "\n",
      "http://tidesandcurrents.noaa.gov/noaacurrents/CreateAnnual?id=ACT3431_1&fmt=xml&year=2014&tz=LST/LDT&u=1&t=24hr\n",
      "\n",
      "get the whole year with CreateAnnual\n",
      "\n"
     ]
    },
    {
     "cell_type": "code",
     "collapsed": false,
     "input": [
      "#def getCsvData(url):\n",
      "    #  Takes as input a url to http://tidesandcurrents.noaa.gov/noaacurrents/CreateAnnual \n",
      "url = 'http://tidesandcurrents.noaa.gov/noaacurrents/CreateAnnual?id=ACT3431_1&fmt=csv&year=2014&tz=LST/LDT&u=1&t=24hr'\n",
      "#website = requests.get(url)\n",
      "#print website.text\n",
      "#thisStation = np.loadtxt(website.text,comments=\"Date\",delimiter=\",\",unpack=True)\n",
      "df = pd.read_csv(url,parse_dates=[1],infer_datetime_format=True)\n",
      "df[df == '-'] = 0 #change slack values to zero knots\n",
      "df = df.rename(columns={'Date_Time (LST/LDT)': 'date_time',' Event': 'event', ' Speed (knots)': 'knots'})\n",
      "print df.keys()\n",
      "#print df\n",
      "#csvReader = csv.reader(website.text.splitlines(1))\n",
      "\n"
     ],
     "language": "python",
     "metadata": {},
     "outputs": [
      {
       "output_type": "stream",
       "stream": "stdout",
       "text": [
        "Index([u'date_time', u'event', u'knots'], dtype='object')\n"
       ]
      }
     ],
     "prompt_number": 120
    },
    {
     "cell_type": "code",
     "collapsed": false,
     "input": [
      "trng = pd.date_range('1/1/2014','01/01/2015',freq='H')\n",
      "print trng\n",
      "print trng[0]\n",
      "print trng.size\n",
      "speedKnots = np.zeros(trng.size)\n",
      "event = (('interp',)*trng.size)\n",
      "#print event\n",
      "data = {'date_time': trng,\n",
      "        'event': event,\n",
      "        'knots': speedKnots}\n",
      "frame = pd.DataFrame(data)"
     ],
     "language": "python",
     "metadata": {},
     "outputs": [
      {
       "output_type": "stream",
       "stream": "stdout",
       "text": [
        "<class 'pandas.tseries.index.DatetimeIndex'>\n",
        "[2014-01-01 00:00:00, ..., 2015-01-01 00:00:00]\n",
        "Length: 8761, Freq: H, Timezone: None\n",
        "2014-01-01 00:00:00\n",
        "8761\n"
       ]
      }
     ],
     "prompt_number": 121
    },
    {
     "cell_type": "code",
     "collapsed": false,
     "input": [
      "#df.dtypes\n",
      "frame.dtypes\n",
      "#print df['date_time'].describe()"
     ],
     "language": "python",
     "metadata": {},
     "outputs": [
      {
       "metadata": {},
       "output_type": "pyout",
       "prompt_number": 117,
       "text": [
        "date_time    datetime64[ns]\n",
        "event                object\n",
        "knots               float64\n",
        "dtype: object"
       ]
      }
     ],
     "prompt_number": 117
    },
    {
     "cell_type": "code",
     "collapsed": false,
     "input": [
      "newdf = df.convert_objects(convert_dates=True,convert_numeric=True)\n",
      "newdf['date_time']=pd.to_datetime(df['date_time'])\n",
      "newdf.dtypes"
     ],
     "language": "python",
     "metadata": {},
     "outputs": [
      {
       "metadata": {},
       "output_type": "pyout",
       "prompt_number": 123,
       "text": [
        "date_time    datetime64[ns]\n",
        "event                object\n",
        "knots               float64\n",
        "dtype: object"
       ]
      }
     ],
     "prompt_number": 123
    },
    {
     "cell_type": "code",
     "collapsed": false,
     "input": [
      "print newdf['date_time'][1]-frame['date_time'][1]"
     ],
     "language": "python",
     "metadata": {},
     "outputs": [
      {
       "output_type": "stream",
       "stream": "stdout",
       "text": [
        "2:33:00\n"
       ]
      }
     ],
     "prompt_number": 127
    },
    {
     "cell_type": "code",
     "collapsed": false,
     "input": [
      "\n",
      "df.convert_objects(convert_dates=True,convert_numeric=True)\n",
      "\n",
      "\n",
      "tdiff = df[pd.to_datetime(df['date_time'])>rng[4000]]\n",
      "print tdiff"
     ],
     "language": "python",
     "metadata": {},
     "outputs": [
      {
       "output_type": "stream",
       "stream": "stdout",
       "text": [
        "             date_time   event knots\n",
        "1288  2014-06-16 16:42     ebb  -2.5\n",
        "1289  2014-06-16 19:51   slack     0\n",
        "1290  2014-06-16 22:25   flood   1.5\n",
        "1291  2014-06-17 01:46   slack     0\n",
        "1292  2014-06-17 05:12     ebb  -2.5\n",
        "1293  2014-06-17 08:27   slack     0\n",
        "1294  2014-06-17 10:55   flood   1.4\n",
        "1295  2014-06-17 14:16   slack     0\n",
        "1296  2014-06-17 17:42     ebb  -2.4\n",
        "1297  2014-06-17 20:51   slack     0\n",
        "1298  2014-06-17 23:25   flood   1.4\n",
        "1299  2014-06-18 02:46   slack     0\n",
        "1300  2014-06-18 06:12     ebb  -2.4\n",
        "1301  2014-06-18 09:21   slack     0\n",
        "1302  2014-06-18 11:55   flood   1.4\n",
        "1303  2014-06-18 15:16   slack     0\n",
        "1304  2014-06-18 18:42     ebb  -2.4\n",
        "1305  2014-06-18 21:51   slack     0\n",
        "1306  2014-06-19 00:25   flood   1.4\n",
        "1307  2014-06-19 03:46   slack     0\n",
        "1308  2014-06-19 07:12     ebb  -2.3\n",
        "1309  2014-06-19 10:27   slack     0\n",
        "1310  2014-06-19 13:01   flood   1.4\n",
        "1311  2014-06-19 16:16   slack     0\n",
        "1312  2014-06-19 19:42     ebb  -2.3\n",
        "1313  2014-06-19 22:57   slack     0\n",
        "1314  2014-06-20 01:31   flood   1.3\n",
        "1315  2014-06-20 04:46   slack     0\n",
        "1316  2014-06-20 08:12     ebb  -2.3\n",
        "1317  2014-06-20 11:27   slack     0\n",
        "...                ...     ...   ...\n",
        "2791  2014-12-28 02:34   slack     0\n",
        "2792  2014-12-28 06:00     ebb  -2.4\n",
        "2793  2014-12-28 09:21   slack     0\n",
        "2794  2014-12-28 11:49   flood   1.3\n",
        "2795  2014-12-28 15:04   slack     0\n",
        "2796  2014-12-28 18:30     ebb  -2.3\n",
        "2797  2014-12-28 21:51   slack     0\n",
        "2798  2014-12-29 00:19   flood   1.3\n",
        "2799  2014-12-29 03:34   slack     0\n",
        "2800  2014-12-29 07:06     ebb  -2.3\n",
        "2801  2014-12-29 10:27   slack     0\n",
        "2802  2014-12-29 12:55   flood   1.3\n",
        "2803  2014-12-29 16:10   slack     0\n",
        "2804  2014-12-29 19:36     ebb  -2.3\n",
        "2805  2014-12-29 22:51   slack     0\n",
        "2806  2014-12-30 01:25   flood   1.3\n",
        "2807  2014-12-30 04:40   slack     0\n",
        "2808  2014-12-30 08:18     ebb  -2.3\n",
        "2809  2014-12-30 11:33   slack     0\n",
        "2810  2014-12-30 14:07   flood   1.3\n",
        "2811  2014-12-30 17:10   slack     0\n",
        "2812  2014-12-30 20:48     ebb  -2.2\n",
        "2813  2014-12-30 23:57   slack     0\n",
        "2814  2014-12-31 02:37   flood   1.3\n",
        "2815  2014-12-31 05:40   slack     0\n",
        "2816  2014-12-31 09:24     ebb  -2.3\n",
        "2817  2014-12-31 12:33   slack     0\n",
        "2818  2014-12-31 15:13   flood   1.3\n",
        "2819  2014-12-31 18:10   slack     0\n",
        "2820  2014-12-31 21:54     ebb  -2.3\n",
        "\n",
        "[1533 rows x 3 columns]\n"
       ]
      }
     ],
     "prompt_number": 93
    },
    {
     "cell_type": "code",
     "collapsed": false,
     "input": [
      "tdiff.abs()"
     ],
     "language": "python",
     "metadata": {},
     "outputs": [
      {
       "ename": "TypeError",
       "evalue": "bad operand type for abs(): 'str'",
       "output_type": "pyerr",
       "traceback": [
        "\u001b[1;31m---------------------------------------------------------------------------\u001b[0m\n\u001b[1;31mTypeError\u001b[0m                                 Traceback (most recent call last)",
        "\u001b[1;32m<ipython-input-128-5da5b4f06799>\u001b[0m in \u001b[0;36m<module>\u001b[1;34m()\u001b[0m\n\u001b[1;32m----> 1\u001b[1;33m \u001b[0mtdiff\u001b[0m\u001b[1;33m.\u001b[0m\u001b[0mabs\u001b[0m\u001b[1;33m(\u001b[0m\u001b[1;33m)\u001b[0m\u001b[1;33m\u001b[0m\u001b[0m\n\u001b[0m",
        "\u001b[1;32mD:\\Anaconda\\lib\\site-packages\\pandas\\core\\generic.py\u001b[0m in \u001b[0;36mabs\u001b[1;34m(self)\u001b[0m\n\u001b[0;32m   3482\u001b[0m                 \u001b[1;32mreturn\u001b[0m  \u001b[0mself\u001b[0m\u001b[1;33m.\u001b[0m\u001b[0mapply\u001b[0m\u001b[1;33m(\u001b[0m\u001b[0m_convert_timedeltas\u001b[0m\u001b[1;33m)\u001b[0m\u001b[1;33m\u001b[0m\u001b[0m\n\u001b[0;32m   3483\u001b[0m \u001b[1;33m\u001b[0m\u001b[0m\n\u001b[1;32m-> 3484\u001b[1;33m         \u001b[1;32mreturn\u001b[0m \u001b[0mnp\u001b[0m\u001b[1;33m.\u001b[0m\u001b[0mabs\u001b[0m\u001b[1;33m(\u001b[0m\u001b[0mself\u001b[0m\u001b[1;33m)\u001b[0m\u001b[1;33m\u001b[0m\u001b[0m\n\u001b[0m\u001b[0;32m   3485\u001b[0m \u001b[1;33m\u001b[0m\u001b[0m\n\u001b[0;32m   3486\u001b[0m     _shared_docs['describe'] = \"\"\"\n",
        "\u001b[1;31mTypeError\u001b[0m: bad operand type for abs(): 'str'"
       ]
      }
     ],
     "prompt_number": 128
    },
    {
     "cell_type": "code",
     "collapsed": false,
     "input": [],
     "language": "python",
     "metadata": {},
     "outputs": []
    }
   ],
   "metadata": {}
  }
 ]
}